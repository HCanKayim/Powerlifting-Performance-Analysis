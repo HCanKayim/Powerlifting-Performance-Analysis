{
 "cells": [
  {
   "cell_type": "markdown",
   "id": "518450e6",
   "metadata": {},
   "source": [
    "# Data Selection and Sampling\n",
    "\n",
    "This notebook contains the analysis from data_selection.py"
   ]
  },
  {
   "cell_type": "code",
   "execution_count": null,
   "id": "7dbed65e",
   "metadata": {},
   "outputs": [],
   "source": [
    "import pandas as pd\n",
    "import random\n",
    "import math"
   ]
  },
  {
   "cell_type": "code",
   "execution_count": null,
   "id": "dcc8c8fe",
   "metadata": {},
   "outputs": [],
   "source": [
    "df = pd.read_csv('openpowerlifting.csv')\n",
    "required_columns = ['Best3SquatKg', 'Best3BenchKg', 'Best3DeadliftKg', 'Age', 'Country', 'MeetState', 'Tested']\n",
    "df_clean = df.dropna(subset=required_columns)\n",
    "columns_to_drop = [\n",
    "    'Squat1Kg', 'Squat2Kg', 'Squat3Kg', 'Squat4Kg',\n",
    "    'Bench1Kg', 'Bench2Kg', 'Bench3Kg', 'Bench4Kg',\n",
    "    'Deadlift1Kg', 'Deadlift2Kg', 'Deadlift3Kg', 'Deadlift4Kg'\n",
    "]\n",
    "df_clean.drop(columns=columns_to_drop, inplace=True, errors='ignore')\n",
    "random_state = math.floor(random.random() * 10000)\n",
    "sample_df = df_clean.sample(n=2000, random_state=random_state)\n",
    "sample_df.to_csv('sample_openpowerlifting.csv', index=False)\n"
   ]
  }
 ],
 "metadata": {},
 "nbformat": 4,
 "nbformat_minor": 5
}
