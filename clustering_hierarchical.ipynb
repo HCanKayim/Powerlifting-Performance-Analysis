{
 "cells": [
  {
   "cell_type": "markdown",
   "id": "fc552e7f",
   "metadata": {},
   "source": [
    "# Hierarchical Clustering Analysis\n",
    "\n",
    "This notebook contains the analysis from clustering_hierarchical.py"
   ]
  },
  {
   "cell_type": "code",
   "execution_count": null,
   "id": "9893cfa1",
   "metadata": {},
   "outputs": [],
   "source": [
    "import pandas as pd\n",
    "import matplotlib.pyplot as plt\n",
    "from scipy.cluster.hierarchy import dendrogram, linkage\n",
    "from sklearn.preprocessing import StandardScaler"
   ]
  },
  {
   "cell_type": "code",
   "execution_count": null,
   "id": "5c73d982",
   "metadata": {},
   "outputs": [],
   "source": [
    "df = pd.read_csv('sample_openpowerlifting.csv')"
   ]
  },
  {
   "cell_type": "code",
   "execution_count": null,
   "id": "c8ea5d5b",
   "metadata": {},
   "outputs": [],
   "source": [
    "numeric_cols = ['Age', 'BodyweightKg', 'Best3SquatKg', 'Best3BenchKg', 'Best3DeadliftKg', 'TotalKg']\n",
    "X = df[numeric_cols].dropna()"
   ]
  },
  {
   "cell_type": "code",
   "execution_count": null,
   "id": "66155394",
   "metadata": {},
   "outputs": [],
   "source": [
    "linked_raw = linkage(X, method='ward')"
   ]
  },
  {
   "cell_type": "code",
   "execution_count": null,
   "id": "01b087bf",
   "metadata": {},
   "outputs": [],
   "source": [
    "plt.figure(figsize=(12, 6))\n",
    "dendrogram(linked_raw, truncate_mode='lastp', p=30, leaf_rotation=90, leaf_font_size=10)\n",
    "plt.title(\"Hierarchical Clustering Dendrogram (Raw Data)\")\n",
    "plt.tight_layout()\n",
    "plt.savefig(\"dendrogram_raw.png\")\n",
    "plt.close()"
   ]
  },
  {
   "cell_type": "code",
   "execution_count": null,
   "id": "baf3aabf",
   "metadata": {},
   "outputs": [],
   "source": [
    "scaler = StandardScaler()\n",
    "X_scaled = scaler.fit_transform(X)"
   ]
  },
  {
   "cell_type": "code",
   "execution_count": null,
   "id": "cf1112cb",
   "metadata": {},
   "outputs": [],
   "source": [
    "linked_scaled = linkage(X_scaled, method='ward')"
   ]
  },
  {
   "cell_type": "code",
   "execution_count": null,
   "id": "2475291f",
   "metadata": {},
   "outputs": [],
   "source": [
    "plt.figure(figsize=(12, 6))\n",
    "dendrogram(linked_scaled, truncate_mode='lastp', p=30, leaf_rotation=90, leaf_font_size=10)\n",
    "plt.title(\"Hierarchical Clustering Dendrogram (Standardized Data)\")\n",
    "plt.tight_layout()\n",
    "plt.savefig(\"dendrogram_standardized.png\")\n",
    "plt.close()\n"
   ]
  }
 ],
 "metadata": {},
 "nbformat": 4,
 "nbformat_minor": 5
}
