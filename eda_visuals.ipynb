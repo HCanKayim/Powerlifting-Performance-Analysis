{
 "cells": [
  {
   "cell_type": "markdown",
   "id": "f90f5700",
   "metadata": {},
   "source": [
    "# Exploratory Data Analysis Visualizations\n",
    "\n",
    "This notebook contains the analysis from eda_visuals.py"
   ]
  },
  {
   "cell_type": "code",
   "execution_count": null,
   "id": "494b4d1f",
   "metadata": {},
   "outputs": [],
   "source": [
    "import pandas as pd\n",
    "import matplotlib.pyplot as plt\n",
    "import seaborn as sns"
   ]
  },
  {
   "cell_type": "code",
   "execution_count": null,
   "id": "0239108e",
   "metadata": {},
   "outputs": [],
   "source": [
    "df = pd.read_csv('sample_openpowerlifting.csv')"
   ]
  },
  {
   "cell_type": "code",
   "execution_count": null,
   "id": "d17df004",
   "metadata": {},
   "outputs": [],
   "source": [
    "plt.figure(figsize=(10, 8))\n",
    "correlation_matrix = df.corr(numeric_only=True)\n",
    "sns.heatmap(correlation_matrix, annot=True, fmt=\".2f\", cmap=\"coolwarm\")\n",
    "plt.title(\"Correlation Heatmap of Numeric Features\")\n",
    "plt.tight_layout()\n",
    "plt.savefig(\"correlation_heatmap.png\")\n",
    "plt.close()"
   ]
  },
  {
   "cell_type": "code",
   "execution_count": null,
   "id": "8e0b4cfe",
   "metadata": {},
   "outputs": [],
   "source": [
    "plt.figure(figsize=(12, 5))\n",
    "plt.subplot(1, 2, 1)\n",
    "sns.boxplot(data=df, x='Sex', y='TotalKg')\n",
    "plt.title(\"Total Weight Lifted by Sex\")\n",
    "plt.subplot(1, 2, 2)\n",
    "sns.boxplot(data=df, x='Equipment', y='TotalKg')\n",
    "plt.title(\"Total Weight Lifted by Equipment\")\n",
    "plt.tight_layout()\n",
    "plt.savefig(\"boxplots_totalkg.png\")\n",
    "plt.close()"
   ]
  },
  {
   "cell_type": "code",
   "execution_count": null,
   "id": "1f75335a",
   "metadata": {},
   "outputs": [],
   "source": [
    "top_federations = df['Federation'].value_counts().nlargest(10)\n",
    "top_countries = df['Country'].value_counts().nlargest(10)"
   ]
  },
  {
   "cell_type": "code",
   "execution_count": null,
   "id": "b422f967",
   "metadata": {},
   "outputs": [],
   "source": [
    "plt.figure(figsize=(14, 6))\n",
    "plt.subplot(1, 2, 1)\n",
    "sns.barplot(x=top_federations.values, y=top_federations.index)\n",
    "plt.title(\"Top 10 Federations\")\n",
    "plt.xlabel(\"Count\")\n",
    "plt.subplot(1, 2, 2)\n",
    "sns.barplot(x=top_countries.values, y=top_countries.index)\n",
    "plt.title(\"Top 10 Countries\")\n",
    "plt.xlabel(\"Count\")\n",
    "plt.tight_layout()\n",
    "plt.savefig(\"barplots_federation_country.png\")\n",
    "plt.close()\n"
   ]
  }
 ],
 "metadata": {},
 "nbformat": 4,
 "nbformat_minor": 5
}
