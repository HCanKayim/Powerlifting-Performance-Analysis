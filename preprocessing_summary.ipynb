{
 "cells": [
  {
   "cell_type": "markdown",
   "id": "2f76f9c9",
   "metadata": {},
   "source": [
    "# Data Preprocessing Summary\n",
    "\n",
    "This notebook contains the analysis from preprocessing_summary.py"
   ]
  },
  {
   "cell_type": "code",
   "execution_count": null,
   "id": "e7ca2cb0",
   "metadata": {},
   "outputs": [],
   "source": [
    "import pandas as pd\n",
    "import numpy as np\n",
    "import matplotlib.pyplot as plt\n",
    "import seaborn as sns"
   ]
  },
  {
   "cell_type": "code",
   "execution_count": null,
   "id": "3ee53678",
   "metadata": {},
   "outputs": [],
   "source": [
    "df = pd.read_csv('sample_openpowerlifting.csv')"
   ]
  },
  {
   "cell_type": "code",
   "execution_count": null,
   "id": "8fbe8979",
   "metadata": {},
   "outputs": [],
   "source": [
    "numeric_summary = df.describe(include=[np.number])\n",
    "missing = df.isnull().sum()\n",
    "missing = missing[missing > 0]\n",
    "categorical_cols = df.select_dtypes(include='object').columns.tolist()\n",
    "cat_missing = df[categorical_cols].isnull().sum()\n",
    "cat_missing = cat_missing[cat_missing > 0]"
   ]
  },
  {
   "cell_type": "code",
   "execution_count": null,
   "id": "12f895d3",
   "metadata": {},
   "outputs": [],
   "source": [
    "with open(\"summary_report.txt\", \"w\") as f:\n",
    "    f.write(\"=== Summary Statistics (Numerical Columns) ===\\n\")\n",
    "    f.write(numeric_summary.to_string())\n",
    "    f.write(\"\\n\\n=== Missing Values ===\\n\")\n",
    "    f.write(missing.to_string() if not missing.empty else \"No missing values.\")\n",
    "    f.write(\"\\n\\n=== Categorical Columns ===\\n\")\n",
    "    f.write(\", \".join(categorical_cols))\n",
    "    f.write(\"\\n\\n=== Missing in Categorical Columns ===\\n\")\n",
    "    f.write(cat_missing.to_string() if not cat_missing.empty else \"No missing values in categorical columns.\")"
   ]
  },
  {
   "cell_type": "code",
   "execution_count": null,
   "id": "45ff1f8d",
   "metadata": {},
   "outputs": [],
   "source": [
    "key_numeric = ['Age', 'BodyweightKg', 'Best3SquatKg', 'Best3BenchKg', 'Best3DeadliftKg', 'TotalKg']"
   ]
  },
  {
   "cell_type": "code",
   "execution_count": null,
   "id": "99f410de",
   "metadata": {},
   "outputs": [],
   "source": [
    "plt.figure(figsize=(15, 10))\n",
    "for i, col in enumerate(key_numeric):\n",
    "    plt.subplot(2, 3, i + 1)\n",
    "    sns.histplot(df[col].dropna(), kde=True, bins=30)\n",
    "    plt.title(f'Distribution of {col}')\n",
    "    plt.xlabel(col)\n",
    "    plt.ylabel('Frequency')\n",
    "plt.tight_layout()\n",
    "plt.savefig(\"distribution_plots.png\")\n",
    "plt.close()\n"
   ]
  }
 ],
 "metadata": {},
 "nbformat": 4,
 "nbformat_minor": 5
}
