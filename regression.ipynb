{
 "cells": [
  {
   "cell_type": "markdown",
   "id": "77d110b6",
   "metadata": {},
   "source": [
    "# Regression Analysis\n",
    "\n",
    "This notebook contains the analysis from regression.py"
   ]
  },
  {
   "cell_type": "code",
   "execution_count": null,
   "id": "523312fa",
   "metadata": {},
   "outputs": [],
   "source": [
    "import pandas as pd\n",
    "from sklearn.model_selection import train_test_split\n",
    "from sklearn.linear_model import LinearRegression\n",
    "from sklearn.neighbors import KNeighborsRegressor\n",
    "from sklearn.tree import DecisionTreeRegressor\n",
    "from sklearn.ensemble import RandomForestRegressor\n",
    "from sklearn.metrics import mean_squared_error, r2_score\n",
    "import numpy as np"
   ]
  },
  {
   "cell_type": "code",
   "execution_count": null,
   "id": "68f83400",
   "metadata": {},
   "outputs": [],
   "source": [
    "df = pd.read_csv('sample_openpowerlifting.csv')"
   ]
  },
  {
   "cell_type": "code",
   "execution_count": null,
   "id": "0da5a0b9",
   "metadata": {},
   "outputs": [],
   "source": [
    "df_clean = df.dropna(subset=['TotalKg', 'Age', 'BodyweightKg'])"
   ]
  },
  {
   "cell_type": "code",
   "execution_count": null,
   "id": "19050749",
   "metadata": {},
   "outputs": [],
   "source": [
    "features = ['Age', 'BodyweightKg', 'Sex', 'Equipment', 'Event']\n",
    "target = 'TotalKg'"
   ]
  },
  {
   "cell_type": "code",
   "execution_count": null,
   "id": "f42c65ff",
   "metadata": {},
   "outputs": [],
   "source": [
    "df_features = pd.get_dummies(df_clean[features], drop_first=True)\n",
    "df_target = df_clean[target]"
   ]
  },
  {
   "cell_type": "code",
   "execution_count": null,
   "id": "dd43dc60",
   "metadata": {},
   "outputs": [],
   "source": [
    "X_train, X_test, y_train, y_test = train_test_split(df_features, df_target, test_size=0.2, random_state=42)"
   ]
  },
  {
   "cell_type": "code",
   "execution_count": null,
   "id": "29df675c",
   "metadata": {},
   "outputs": [],
   "source": [
    "models = {\n",
    "    'Linear Regression': LinearRegression(),\n",
    "    'KNN Regression': KNeighborsRegressor(n_neighbors=5),\n",
    "    'Decision Tree Regression': DecisionTreeRegressor(random_state=42),\n",
    "    'Random Forest Regression': RandomForestRegressor(random_state=42, n_estimators=100)\n",
    "}"
   ]
  },
  {
   "cell_type": "code",
   "execution_count": null,
   "id": "20eca33b",
   "metadata": {},
   "outputs": [],
   "source": [
    "results = {}\n",
    "for name, model in models.items():\n",
    "    model.fit(X_train, y_train)\n",
    "    y_pred = model.predict(X_test)\n",
    "    mse = mean_squared_error(y_test, y_pred)\n",
    "    rmse = np.sqrt(mse)\n",
    "    r2 = r2_score(y_test, y_pred)\n",
    "    results[name] = {'MSE': mse, 'RMSE': rmse, 'R2': r2}"
   ]
  },
  {
   "cell_type": "code",
   "execution_count": null,
   "id": "08b6a9c9",
   "metadata": {},
   "outputs": [],
   "source": [
    "def tune_knn_neighbors(X_train, y_train, X_test, y_test, max_neighbors=50):\n",
    "    best_r2 = -np.inf\n",
    "    best_n = None\n",
    "    for n in range(1, max_neighbors + 1):\n",
    "        knn = KNeighborsRegressor(n_neighbors=n)\n",
    "        knn.fit(X_train, y_train)\n",
    "        y_pred = knn.predict(X_test)\n",
    "        r2 = r2_score(y_test, y_pred)\n",
    "        if r2 > best_r2:\n",
    "            best_r2 = r2\n",
    "            best_n = n\n",
    "    return best_n, best_r2"
   ]
  },
  {
   "cell_type": "code",
   "execution_count": null,
   "id": "e756722a",
   "metadata": {},
   "outputs": [],
   "source": [
    "best_n_neighbors, best_r2_score = tune_knn_neighbors(X_train, y_train, X_test, y_test)"
   ]
  },
  {
   "cell_type": "code",
   "execution_count": null,
   "id": "df5af5e6",
   "metadata": {},
   "outputs": [],
   "source": [
    "knn_best = KNeighborsRegressor(n_neighbors=best_n_neighbors)\n",
    "knn_best.fit(X_train, y_train)\n",
    "y_pred_knn_best = knn_best.predict(X_test)\n",
    "mse_knn_best = mean_squared_error(y_test, y_pred_knn_best)\n",
    "rmse_knn_best = np.sqrt(mse_knn_best)\n",
    "r2_knn_best = r2_score(y_test, y_pred_knn_best)"
   ]
  },
  {
   "cell_type": "code",
   "execution_count": null,
   "id": "fc82e159",
   "metadata": {},
   "outputs": [],
   "source": [
    "results['KNN Regression (best n_neighbors)'] = {'MSE': mse_knn_best, 'RMSE': rmse_knn_best, 'R2': r2_knn_best}"
   ]
  },
  {
   "cell_type": "code",
   "execution_count": null,
   "id": "cb7a7393",
   "metadata": {},
   "outputs": [],
   "source": [
    "for model_name, metrics in results.items():\n",
    "    print(f\"{model_name}: MSE={metrics['MSE']:.2f}, RMSE={metrics['RMSE']:.2f}, R2={metrics['R2']:.3f}\")"
   ]
  },
  {
   "cell_type": "code",
   "execution_count": null,
   "id": "4efa8882",
   "metadata": {},
   "outputs": [],
   "source": [
    "print(f\"\\nBest n_neighbors for KNN: {best_n_neighbors} with R2={best_r2_score:.3f}\")"
   ]
  },
  {
   "cell_type": "code",
   "execution_count": null,
   "id": "812ab7fb",
   "metadata": {},
   "outputs": [],
   "source": [
    "print(\"\\nModel Performance Comparison:\")\n",
    "sorted_results = sorted(results.items(), key=lambda x: x[1]['R2'], reverse=True)\n",
    "for model_name, metrics in sorted_results:\n",
    "    print(f\"{model_name:35} | R2: {metrics['R2']:.3f} | RMSE: {metrics['RMSE']:.2f}\")\n"
   ]
  }
 ],
 "metadata": {},
 "nbformat": 4,
 "nbformat_minor": 5
}
